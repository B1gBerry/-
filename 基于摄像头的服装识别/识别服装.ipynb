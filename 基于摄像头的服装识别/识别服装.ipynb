{
 "cells": [
  {
   "cell_type": "code",
   "execution_count": 1,
   "id": "e1c8dce5-db77-4e13-8460-aed5ad7398b3",
   "metadata": {},
   "outputs": [
    {
     "name": "stdout",
     "output_type": "stream",
     "text": [
      "Model: \"sequential\"\n",
      "_________________________________________________________________\n",
      "Layer (type)                 Output Shape              Param #   \n",
      "=================================================================\n",
      "flatten (Flatten)            (None, 784)               0         \n",
      "_________________________________________________________________\n",
      "dense (Dense)                (None, 128)               100480    \n",
      "_________________________________________________________________\n",
      "dense_1 (Dense)              (None, 10)                1290      \n",
      "=================================================================\n",
      "Total params: 101,770\n",
      "Trainable params: 101,770\n",
      "Non-trainable params: 0\n",
      "_________________________________________________________________\n"
     ]
    }
   ],
   "source": [
    "import cv2\n",
    "import numpy as np\n",
    "from time import gmtime, strftime\n",
    "import tensorflow as tf\n",
    "from tensorflow.keras.models import model_from_json\n",
    "\n",
    "# 读取模型架构\n",
    "json_file = open('./modelcc.json', 'r')\n",
    "loaded_model_json = json_file.read()\n",
    "json_file.close()\n",
    "model = model_from_json(loaded_model_json)\n",
    "model.summary()\n",
    "tf.keras.utils.plot_model(model,to_file='./modelqz.png')\n",
    "# 读取模型权重\n",
    "model.load_weights(\"./modelqz.h5\")\n",
    "# 设定损失函数、优化、参考参数\n",
    "model.compile(loss=tf.keras.losses.categorical_crossentropy,optimizer=tf.keras.optimizers.Adadelta(),metrics=['accuracy'])"
   ]
  },
  {
   "cell_type": "code",
   "execution_count": 3,
   "id": "aaa83127-4817-4683-b3c4-9a1acddff213",
   "metadata": {},
   "outputs": [
    {
     "name": "stdout",
     "output_type": "stream",
     "text": [
      "predict_classes: [4]\n"
     ]
    }
   ],
   "source": [
    "cap = cv2.VideoCapture(0)\n",
    "while(True):\n",
    "    ret, img = cap.read()\n",
    "    if ret==True:\n",
    "        cv2.imshow('img', img)\n",
    "        gray = cv2.cvtColor(img, cv2.COLOR_BGR2GRAY)\n",
    "        cv2.imshow('gray', gray)\n",
    "        resized = cv2.resize(gray, (28, 28), interpolation=cv2.INTER_AREA)\n",
    "        cv2.imshow('resized', resized)\n",
    "        (thresh, blackAndWhiteImage) = cv2.threshold(resized, 140, 255, cv2.THRESH_BINARY)\n",
    "        cv2.imshow('blackAndWhiteImage', blackAndWhiteImage)\n",
    "        inverte = cv2.bitwise_not(blackAndWhiteImage)\n",
    "        cv2.imshow('inverte', inverte)\n",
    "    key=cv2.waitKey(1)\n",
    "    if key & 0xFF == ord('q'):\n",
    "        break\n",
    "    elif key & 0xFF == ord('s'):\n",
    "        if ret == True:\n",
    "            cv2.imwrite('.//1.jpg',img=img)\n",
    "    elif key & 0xFF == ord('c'):\n",
    "        b = inverte.astype(dtype=np.float32)\n",
    "        x_test = b.reshape(1, 28, 28, 1)\n",
    "        x_test /= 255\n",
    "        predict2 = model.predict_classes(x_test)\n",
    "        print(\"predict_classes:\", predict2)\n",
    "cap.release()\n",
    "cv2.destroyAllWindows()\n",
    "\n",
    "#识别出来的数字对应test集中的图片序号"
   ]
  },
  {
   "cell_type": "code",
   "execution_count": 7,
   "id": "b80f7c3f-a624-4b0f-bb54-3d0587a18db4",
   "metadata": {},
   "outputs": [],
   "source": [
    "import matplotlib.pyplot as plt\n",
    "from tensorflow.keras.datasets import fashion_mnist\n",
    "(x_train, y_train), (x_test, y_test) = fashion_mnist.load_data()"
   ]
  },
  {
   "cell_type": "code",
   "execution_count": 8,
   "id": "1a32d3c6-1804-43d6-b828-21c03dfb052b",
   "metadata": {},
   "outputs": [
    {
     "data": {
      "image/png": "[encoded data removed]",
      "text/plain": [
       "<Figure size 432x288 with 2 Axes>"
      ]
     },
     "metadata": {
      "needs_background": "light"
     },
     "output_type": "display_data"
    }
   ],
   "source": [
    "plt.figure()\n",
    "plt.imshow(x_test[4])\n",
    "plt.colorbar()\n",
    "plt.grid(False)\n",
    "plt.show()"
   ]
  },
  {
   "cell_type": "code",
   "execution_count": null,
   "id": "5db5a39c-f413-43cf-9281-fe19e175aeed",
   "metadata": {},
   "outputs": [],
   "source": []
  }
 ],
 "metadata": {
  "kernelspec": {
   "display_name": "ten2",
   "language": "python",
   "name": "ten2"
  },
  "language_info": {
   "codemirror_mode": {
    "name": "ipython",
    "version": 3
   },
   "file_extension": ".py",
   "mimetype": "text/x-python",
   "name": "python",
   "nbconvert_exporter": "python",
   "pygments_lexer": "ipython3",
   "version": "3.8.8"
  }
 },
 "nbformat": 4,
 "nbformat_minor": 5
}
