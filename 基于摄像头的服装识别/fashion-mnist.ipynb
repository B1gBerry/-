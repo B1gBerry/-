{
 "cells": [
  {
   "cell_type": "code",
   "execution_count": 13,
   "id": "25944e36-da14-48e1-b364-37d526e4e178",
   "metadata": {},
   "outputs": [],
   "source": [
    "import tensorflow as tf\n",
    "from tensorflow import keras\n",
    "import numpy as np\n",
    "import matplotlib.pyplot as plt\n",
    "from tensorflow.keras.datasets import fashion_mnist\n",
    "(x_train, y_train), (x_test, y_test) = fashion_mnist.load_data()"
   ]
  },
  {
   "cell_type": "code",
   "execution_count": 14,
   "id": "adecdf64-11a8-4510-a2a2-3815e6a691ed",
   "metadata": {},
   "outputs": [
    {
     "name": "stdout",
     "output_type": "stream",
     "text": [
      "(60000, 28, 28) 60000\n",
      "(10000, 28, 28) 10000\n"
     ]
    }
   ],
   "source": [
    "print(x_train.shape,len(y_train))\n",
    "print(x_test.shape,len(y_test))"
   ]
  },
  {
   "cell_type": "code",
   "execution_count": 46,
   "id": "f149974f-0604-463d-8e73-567be7fd423d",
   "metadata": {},
   "outputs": [
    {
     "data": {
      "image/png": "[encoded data removed]",
      "text/plain": [
       "<Figure size 432x288 with 2 Axes>"
      ]
     },
     "metadata": {
      "needs_background": "light"
     },
     "output_type": "display_data"
    }
   ],
   "source": [
    "plt.figure()\n",
    "plt.imshow(x_test[4])\n",
    "plt.colorbar()\n",
    "plt.grid(False)\n",
    "plt.show()"
   ]
  },
  {
   "cell_type": "code",
   "execution_count": 15,
   "id": "609070b9-6fe6-4803-bb24-c1dbc129020d",
   "metadata": {},
   "outputs": [
    {
     "data": {
      "image/png": "[encoded data removed]",
      "text/plain": [
       "<Figure size 432x288 with 2 Axes>"
      ]
     },
     "metadata": {
      "needs_background": "light"
     },
     "output_type": "display_data"
    },
    {
     "name": "stdout",
     "output_type": "stream",
     "text": [
      "Epoch 1/50\n",
      "1875/1875 [==============================] - 1s 646us/step - loss: 0.4978 - accuracy: 0.8255\n",
      "Epoch 2/50\n",
      "1875/1875 [==============================] - 1s 671us/step - loss: 0.3767 - accuracy: 0.8641\n",
      "Epoch 3/50\n",
      "1875/1875 [==============================] - 1s 692us/step - loss: 0.3385 - accuracy: 0.8752\n",
      "Epoch 4/50\n",
      "1875/1875 [==============================] - 1s 634us/step - loss: 0.3121 - accuracy: 0.8848\n",
      "Epoch 5/50\n",
      "1875/1875 [==============================] - 1s 664us/step - loss: 0.2950 - accuracy: 0.8912\n",
      "Epoch 6/50\n",
      "1875/1875 [==============================] - 1s 633us/step - loss: 0.2808 - accuracy: 0.8959\n",
      "Epoch 7/50\n",
      "1875/1875 [==============================] - 1s 624us/step - loss: 0.2677 - accuracy: 0.9016\n",
      "Epoch 8/50\n",
      "1875/1875 [==============================] - 1s 645us/step - loss: 0.2574 - accuracy: 0.9037\n",
      "Epoch 9/50\n",
      "1875/1875 [==============================] - 1s 621us/step - loss: 0.2482 - accuracy: 0.9066\n",
      "Epoch 10/50\n",
      "1875/1875 [==============================] - 1s 715us/step - loss: 0.2393 - accuracy: 0.9110\n",
      "Epoch 11/50\n",
      "1875/1875 [==============================] - 1s 717us/step - loss: 0.2297 - accuracy: 0.9136\n",
      "Epoch 12/50\n",
      "1875/1875 [==============================] - 1s 653us/step - loss: 0.2232 - accuracy: 0.9162\n",
      "Epoch 13/50\n",
      "1875/1875 [==============================] - 1s 628us/step - loss: 0.2168 - accuracy: 0.9196\n",
      "Epoch 14/50\n",
      "1875/1875 [==============================] - 1s 613us/step - loss: 0.2106 - accuracy: 0.9205\n",
      "Epoch 15/50\n",
      "1875/1875 [==============================] - 1s 622us/step - loss: 0.2054 - accuracy: 0.9223\n",
      "Epoch 16/50\n",
      "1875/1875 [==============================] - 1s 617us/step - loss: 0.1986 - accuracy: 0.9259\n",
      "Epoch 17/50\n",
      "1875/1875 [==============================] - 1s 635us/step - loss: 0.1929 - accuracy: 0.9275\n",
      "Epoch 18/50\n",
      "1875/1875 [==============================] - 1s 612us/step - loss: 0.1883 - accuracy: 0.9283\n",
      "Epoch 19/50\n",
      "1875/1875 [==============================] - 1s 619us/step - loss: 0.1828 - accuracy: 0.9305\n",
      "Epoch 20/50\n",
      "1875/1875 [==============================] - 1s 610us/step - loss: 0.1794 - accuracy: 0.9308\n",
      "Epoch 21/50\n",
      "1875/1875 [==============================] - 1s 616us/step - loss: 0.1736 - accuracy: 0.9341\n",
      "Epoch 22/50\n",
      "1875/1875 [==============================] - 1s 620us/step - loss: 0.1672 - accuracy: 0.9371\n",
      "Epoch 23/50\n",
      "1875/1875 [==============================] - 1s 619us/step - loss: 0.1664 - accuracy: 0.9366\n",
      "Epoch 24/50\n",
      "1875/1875 [==============================] - 1s 632us/step - loss: 0.1621 - accuracy: 0.9390\n",
      "Epoch 25/50\n",
      "1875/1875 [==============================] - 1s 626us/step - loss: 0.1573 - accuracy: 0.9410\n",
      "Epoch 26/50\n",
      "1875/1875 [==============================] - 1s 612us/step - loss: 0.1550 - accuracy: 0.9413\n",
      "Epoch 27/50\n",
      "1875/1875 [==============================] - 1s 612us/step - loss: 0.1512 - accuracy: 0.9434\n",
      "Epoch 28/50\n",
      "1875/1875 [==============================] - 1s 639us/step - loss: 0.1474 - accuracy: 0.9442\n",
      "Epoch 29/50\n",
      "1875/1875 [==============================] - 1s 609us/step - loss: 0.1442 - accuracy: 0.9463\n",
      "Epoch 30/50\n",
      "1875/1875 [==============================] - 1s 612us/step - loss: 0.1433 - accuracy: 0.9455\n",
      "Epoch 31/50\n",
      "1875/1875 [==============================] - 1s 615us/step - loss: 0.1410 - accuracy: 0.9464\n",
      "Epoch 32/50\n",
      "1875/1875 [==============================] - 1s 615us/step - loss: 0.1349 - accuracy: 0.9491\n",
      "Epoch 33/50\n",
      "1875/1875 [==============================] - 1s 622us/step - loss: 0.1346 - accuracy: 0.9489\n",
      "Epoch 34/50\n",
      "1875/1875 [==============================] - 1s 614us/step - loss: 0.1302 - accuracy: 0.9512\n",
      "Epoch 35/50\n",
      "1875/1875 [==============================] - 1s 617us/step - loss: 0.1256 - accuracy: 0.9528\n",
      "Epoch 36/50\n",
      "1875/1875 [==============================] - 1s 611us/step - loss: 0.1254 - accuracy: 0.9528\n",
      "Epoch 37/50\n",
      "1875/1875 [==============================] - 1s 615us/step - loss: 0.1247 - accuracy: 0.9530\n",
      "Epoch 38/50\n",
      "1875/1875 [==============================] - 1s 610us/step - loss: 0.1193 - accuracy: 0.9557\n",
      "Epoch 39/50\n",
      "1875/1875 [==============================] - 1s 609us/step - loss: 0.1198 - accuracy: 0.9550\n",
      "Epoch 40/50\n",
      "1875/1875 [==============================] - 1s 613us/step - loss: 0.1158 - accuracy: 0.9566\n",
      "Epoch 41/50\n",
      "1875/1875 [==============================] - 1s 612us/step - loss: 0.1148 - accuracy: 0.9565\n",
      "Epoch 42/50\n",
      "1875/1875 [==============================] - 1s 622us/step - loss: 0.1106 - accuracy: 0.9591\n",
      "Epoch 43/50\n",
      "1875/1875 [==============================] - 1s 625us/step - loss: 0.1100 - accuracy: 0.9585\n",
      "Epoch 44/50\n",
      "1875/1875 [==============================] - 1s 620us/step - loss: 0.1095 - accuracy: 0.9592\n",
      "Epoch 45/50\n",
      "1875/1875 [==============================] - 1s 617us/step - loss: 0.1067 - accuracy: 0.9599\n",
      "Epoch 46/50\n",
      "1875/1875 [==============================] - 1s 611us/step - loss: 0.1048 - accuracy: 0.9613\n",
      "Epoch 47/50\n",
      "1875/1875 [==============================] - 1s 613us/step - loss: 0.1011 - accuracy: 0.9623\n",
      "Epoch 48/50\n",
      "1875/1875 [==============================] - 1s 614us/step - loss: 0.1015 - accuracy: 0.9619\n",
      "Epoch 49/50\n",
      "1875/1875 [==============================] - 1s 614us/step - loss: 0.0981 - accuracy: 0.9633\n",
      "Epoch 50/50\n",
      "1875/1875 [==============================] - 1s 634us/step - loss: 0.0974 - accuracy: 0.9629\n",
      "313/313 - 0s - loss: 0.5047 - accuracy: 0.8885\n",
      "/nTest accuracy: 0.8884999752044678\n",
      "预测结果： 1\n",
      "真实结果： 1\n"
     ]
    }
   ],
   "source": [
    "# 查看数据集中的第2张图片\n",
    "plt.figure()\n",
    "plt.imshow(x_train[2])\n",
    "plt.colorbar()\n",
    "plt.grid(False)\n",
    "plt.show()\n",
    "\n",
    "# 预处理数据，将像素值除以255，使其缩放到0到1的范围\n",
    "x_train = x_train / 255.0\n",
    "x_test = x_test / 255.0\n",
    "\n",
    "# 搭建网络结构\n",
    "model = keras.Sequential([\n",
    "     keras.layers.Flatten(input_shape=(28,28)),\n",
    "     keras.layers.Dense(128,activation='relu'),\n",
    "     keras.layers.Dense(10,activation='softmax') \n",
    "])\n",
    "\n",
    " # 设置损失函数、优化器及训练指标\n",
    "model.compile(optimizer='adam',loss='sparse_categorical_crossentropy',metrics=['accuracy'])\n",
    "\n",
    "# 训练模型\n",
    "model.fit(x_train,y_train,epochs=50)\n",
    "\n",
    "# 模型评估\n",
    "test_loss,test_acc=model.evaluate(x_test,y_test,verbose=2)\n",
    "print('/nTest accuracy:',test_acc)\n",
    "\n",
    "# 选择测试集中的图像进行预测\n",
    "predictions=model.predict(x_test)\n",
    "\n",
    "# 查看第一个预测\n",
    "print(\"预测结果：\",np.argmax(predictions[2]))\n",
    "# 将正确标签打印出来和预测结果对比\n",
    "print(\"真实结果：\",y_test[2])"
   ]
  },
  {
   "cell_type": "code",
   "execution_count": 10,
   "id": "b4116878-9839-4aa2-bac8-9e1c9331688f",
   "metadata": {},
   "outputs": [
    {
     "name": "stdout",
     "output_type": "stream",
     "text": [
      "INFO:tensorflow:Assets written to: ./fashion.json\\assets\n"
     ]
    }
   ],
   "source": [
    "model.save(\"./fashion.h5\")"
   ]
  },
  {
   "cell_type": "code",
   "execution_count": 16,
   "id": "48498a91-31b5-4ea9-a791-b9b7fb46bcd5",
   "metadata": {},
   "outputs": [
    {
     "name": "stdout",
     "output_type": "stream",
     "text": [
      "Model: \"sequential_1\"\n",
      "_________________________________________________________________\n",
      "Layer (type)                 Output Shape              Param #   \n",
      "=================================================================\n",
      "flatten_1 (Flatten)          (None, 784)               0         \n",
      "_________________________________________________________________\n",
      "dense_2 (Dense)              (None, 128)               100480    \n",
      "_________________________________________________________________\n",
      "dense_3 (Dense)              (None, 10)                1290      \n",
      "=================================================================\n",
      "Total params: 101,770\n",
      "Trainable params: 101,770\n",
      "Non-trainable params: 0\n",
      "_________________________________________________________________\n"
     ]
    }
   ],
   "source": [
    "model.summary()"
   ]
  },
  {
   "cell_type": "code",
   "execution_count": 12,
   "id": "fb184147-9a7a-442d-a2af-ba99f6ce9857",
   "metadata": {},
   "outputs": [],
   "source": [
    "# 保存模型架构\n",
    "model_json = model.to_json()\n",
    "with open('./modelcc.json', 'w') as file:\n",
    "    file.write(model_json)\n",
    "# 保存模型权重\n",
    "model.save_weights(\"modelqz.h5\")"
   ]
  },
  {
   "cell_type": "code",
   "execution_count": null,
   "id": "d2194e09-8907-4ab5-9947-e5a9141994b2",
   "metadata": {},
   "outputs": [],
   "source": []
  }
 ],
 "metadata": {
  "kernelspec": {
   "display_name": "ten2",
   "language": "python",
   "name": "ten2"
  },
  "language_info": {
   "codemirror_mode": {
    "name": "ipython",
    "version": 3
   },
   "file_extension": ".py",
   "mimetype": "text/x-python",
   "name": "python",
   "nbconvert_exporter": "python",
   "pygments_lexer": "ipython3",
   "version": "3.8.8"
  }
 },
 "nbformat": 4,
 "nbformat_minor": 5
}
